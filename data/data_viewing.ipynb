{
 "cells": [
  {
   "cell_type": "code",
   "execution_count": 1,
   "metadata": {},
   "outputs": [],
   "source": [
    "import numpy as np\n",
    "import pandas as pd\n",
    "import mplcyberpunk as mcb # if this doesn't work, pip install mplcyberpunk\n",
    "import matplotlib.pyplot as plt\n",
    "\n",
    "plt.style.use('cyberpunk') # if this "
   ]
  },
  {
   "cell_type": "markdown",
   "metadata": {},
   "source": [
    "# Import the Data"
   ]
  },
  {
   "cell_type": "code",
   "execution_count": 73,
   "metadata": {},
   "outputs": [
    {
     "data": {
      "text/html": [
       "<div>\n",
       "<style scoped>\n",
       "    .dataframe tbody tr th:only-of-type {\n",
       "        vertical-align: middle;\n",
       "    }\n",
       "\n",
       "    .dataframe tbody tr th {\n",
       "        vertical-align: top;\n",
       "    }\n",
       "\n",
       "    .dataframe thead th {\n",
       "        text-align: right;\n",
       "    }\n",
       "</style>\n",
       "<table border=\"1\" class=\"dataframe\">\n",
       "  <thead>\n",
       "    <tr style=\"text-align: right;\">\n",
       "      <th></th>\n",
       "      <th>id</th>\n",
       "      <th>name</th>\n",
       "      <th>cmc</th>\n",
       "      <th>layout</th>\n",
       "      <th>reserved</th>\n",
       "      <th>type_line</th>\n",
       "      <th>artist</th>\n",
       "      <th>booster</th>\n",
       "      <th>border_color</th>\n",
       "      <th>frame</th>\n",
       "      <th>...</th>\n",
       "      <th>has_kw_Vigilance</th>\n",
       "      <th>has_kw_Transform</th>\n",
       "      <th>has_kw_Cycling</th>\n",
       "      <th>has_kw_Haste</th>\n",
       "      <th>has_kw_Trample</th>\n",
       "      <th>has_kw_Mill</th>\n",
       "      <th>has_kw_Flash</th>\n",
       "      <th>has_kw_Scry</th>\n",
       "      <th>number_keywords</th>\n",
       "      <th>class_price</th>\n",
       "    </tr>\n",
       "  </thead>\n",
       "  <tbody>\n",
       "    <tr>\n",
       "      <th>0</th>\n",
       "      <td>0000579f-7b35-4ed3-b44c-db2a538066fe</td>\n",
       "      <td>Fury Sliver</td>\n",
       "      <td>6.0</td>\n",
       "      <td>normal</td>\n",
       "      <td>False</td>\n",
       "      <td>Creature — Sliver</td>\n",
       "      <td>Paolo Parente</td>\n",
       "      <td>True</td>\n",
       "      <td>black</td>\n",
       "      <td>2003</td>\n",
       "      <td>...</td>\n",
       "      <td>0</td>\n",
       "      <td>0</td>\n",
       "      <td>0</td>\n",
       "      <td>0</td>\n",
       "      <td>0</td>\n",
       "      <td>0</td>\n",
       "      <td>0</td>\n",
       "      <td>0</td>\n",
       "      <td>0</td>\n",
       "      <td>0</td>\n",
       "    </tr>\n",
       "    <tr>\n",
       "      <th>1</th>\n",
       "      <td>0000579f-7b35-4ed3-b44c-db2a538066fe</td>\n",
       "      <td>Fury Sliver</td>\n",
       "      <td>6.0</td>\n",
       "      <td>normal</td>\n",
       "      <td>False</td>\n",
       "      <td>Creature — Sliver</td>\n",
       "      <td>Paolo Parente</td>\n",
       "      <td>True</td>\n",
       "      <td>black</td>\n",
       "      <td>2003</td>\n",
       "      <td>...</td>\n",
       "      <td>0</td>\n",
       "      <td>0</td>\n",
       "      <td>0</td>\n",
       "      <td>0</td>\n",
       "      <td>0</td>\n",
       "      <td>0</td>\n",
       "      <td>0</td>\n",
       "      <td>0</td>\n",
       "      <td>0</td>\n",
       "      <td>1</td>\n",
       "    </tr>\n",
       "    <tr>\n",
       "      <th>2</th>\n",
       "      <td>00006596-1166-4a79-8443-ca9f82e6db4e</td>\n",
       "      <td>Kor Outfitter</td>\n",
       "      <td>2.0</td>\n",
       "      <td>normal</td>\n",
       "      <td>False</td>\n",
       "      <td>Creature — Kor Soldier</td>\n",
       "      <td>Kieran Yanner</td>\n",
       "      <td>True</td>\n",
       "      <td>black</td>\n",
       "      <td>2003</td>\n",
       "      <td>...</td>\n",
       "      <td>0</td>\n",
       "      <td>0</td>\n",
       "      <td>0</td>\n",
       "      <td>0</td>\n",
       "      <td>0</td>\n",
       "      <td>0</td>\n",
       "      <td>0</td>\n",
       "      <td>0</td>\n",
       "      <td>0</td>\n",
       "      <td>0</td>\n",
       "    </tr>\n",
       "    <tr>\n",
       "      <th>3</th>\n",
       "      <td>00006596-1166-4a79-8443-ca9f82e6db4e</td>\n",
       "      <td>Kor Outfitter</td>\n",
       "      <td>2.0</td>\n",
       "      <td>normal</td>\n",
       "      <td>False</td>\n",
       "      <td>Creature — Kor Soldier</td>\n",
       "      <td>Kieran Yanner</td>\n",
       "      <td>True</td>\n",
       "      <td>black</td>\n",
       "      <td>2003</td>\n",
       "      <td>...</td>\n",
       "      <td>0</td>\n",
       "      <td>0</td>\n",
       "      <td>0</td>\n",
       "      <td>0</td>\n",
       "      <td>0</td>\n",
       "      <td>0</td>\n",
       "      <td>0</td>\n",
       "      <td>0</td>\n",
       "      <td>0</td>\n",
       "      <td>2</td>\n",
       "    </tr>\n",
       "    <tr>\n",
       "      <th>4</th>\n",
       "      <td>0000cd57-91fe-411f-b798-646e965eec37</td>\n",
       "      <td>Siren Lookout</td>\n",
       "      <td>3.0</td>\n",
       "      <td>normal</td>\n",
       "      <td>False</td>\n",
       "      <td>Creature — Siren Pirate</td>\n",
       "      <td>Chris Rallis</td>\n",
       "      <td>True</td>\n",
       "      <td>black</td>\n",
       "      <td>2015</td>\n",
       "      <td>...</td>\n",
       "      <td>0</td>\n",
       "      <td>0</td>\n",
       "      <td>0</td>\n",
       "      <td>0</td>\n",
       "      <td>0</td>\n",
       "      <td>0</td>\n",
       "      <td>0</td>\n",
       "      <td>0</td>\n",
       "      <td>2</td>\n",
       "      <td>0</td>\n",
       "    </tr>\n",
       "  </tbody>\n",
       "</table>\n",
       "<p>5 rows × 47 columns</p>\n",
       "</div>"
      ],
      "text/plain": [
       "                                     id           name  cmc  layout  reserved  \\\n",
       "0  0000579f-7b35-4ed3-b44c-db2a538066fe    Fury Sliver  6.0  normal     False   \n",
       "1  0000579f-7b35-4ed3-b44c-db2a538066fe    Fury Sliver  6.0  normal     False   \n",
       "2  00006596-1166-4a79-8443-ca9f82e6db4e  Kor Outfitter  2.0  normal     False   \n",
       "3  00006596-1166-4a79-8443-ca9f82e6db4e  Kor Outfitter  2.0  normal     False   \n",
       "4  0000cd57-91fe-411f-b798-646e965eec37  Siren Lookout  3.0  normal     False   \n",
       "\n",
       "                 type_line         artist  booster border_color frame  ...  \\\n",
       "0        Creature — Sliver  Paolo Parente     True        black  2003  ...   \n",
       "1        Creature — Sliver  Paolo Parente     True        black  2003  ...   \n",
       "2   Creature — Kor Soldier  Kieran Yanner     True        black  2003  ...   \n",
       "3   Creature — Kor Soldier  Kieran Yanner     True        black  2003  ...   \n",
       "4  Creature — Siren Pirate   Chris Rallis     True        black  2015  ...   \n",
       "\n",
       "   has_kw_Vigilance  has_kw_Transform  has_kw_Cycling has_kw_Haste  \\\n",
       "0                 0                 0               0            0   \n",
       "1                 0                 0               0            0   \n",
       "2                 0                 0               0            0   \n",
       "3                 0                 0               0            0   \n",
       "4                 0                 0               0            0   \n",
       "\n",
       "   has_kw_Trample has_kw_Mill  has_kw_Flash  has_kw_Scry  number_keywords  \\\n",
       "0               0           0             0            0                0   \n",
       "1               0           0             0            0                0   \n",
       "2               0           0             0            0                0   \n",
       "3               0           0             0            0                0   \n",
       "4               0           0             0            0                2   \n",
       "\n",
       "   class_price  \n",
       "0            0  \n",
       "1            1  \n",
       "2            0  \n",
       "3            2  \n",
       "4            0  \n",
       "\n",
       "[5 rows x 47 columns]"
      ]
     },
     "execution_count": 73,
     "metadata": {},
     "output_type": "execute_result"
    }
   ],
   "source": [
    "df = pd.read_csv(\"mtg_data.csv\", index_col=0)\n",
    "df.head()"
   ]
  },
  {
   "cell_type": "code",
   "execution_count": 3,
   "metadata": {},
   "outputs": [
    {
     "data": {
      "text/plain": [
       "id                          object\n",
       "name                        object\n",
       "cmc                        float64\n",
       "keywords                    object\n",
       "layout                      object\n",
       "reserved                      bool\n",
       "type_line                   object\n",
       "artist                      object\n",
       "booster                       bool\n",
       "border_color                object\n",
       "frame                       object\n",
       "full_art                      bool\n",
       "promo                         bool\n",
       "rarity                     float64\n",
       "released_at                 object\n",
       "reprint                       bool\n",
       "set                         object\n",
       "story_spotlight               bool\n",
       "textless                      bool\n",
       "variation                     bool\n",
       "power_num                  float64\n",
       "toughness_num              float64\n",
       "is_foil                      int64\n",
       "price                      float64\n",
       "has_white                    int64\n",
       "has_blue                     int64\n",
       "has_black                    int64\n",
       "has_red                      int64\n",
       "has_green                    int64\n",
       "total_num_colors             int64\n",
       "len_oracle_text              int64\n",
       "len_mana_types_produced      int64\n",
       "has_frame_effect             int64\n",
       "has_flavor_text              int64\n",
       "class_price                  int64\n",
       "dtype: object"
      ]
     },
     "execution_count": 3,
     "metadata": {},
     "output_type": "execute_result"
    }
   ],
   "source": [
    "df.dtypes"
   ]
  },
  {
   "cell_type": "code",
   "execution_count": 4,
   "metadata": {},
   "outputs": [
    {
     "data": {
      "text/plain": [
       "66.88113542282673"
      ]
     },
     "execution_count": 4,
     "metadata": {},
     "output_type": "execute_result"
    }
   ],
   "source": [
    "\n",
    "len(df)/len(df['artist'].unique().tolist())"
   ]
  },
  {
   "cell_type": "code",
   "execution_count": 5,
   "metadata": {},
   "outputs": [
    {
     "name": "stdout",
     "output_type": "stream",
     "text": [
      "Number of Cards: 113096\n",
      "Columns:\n",
      "\tid\n",
      "\tname\n",
      "\tcmc\n",
      "\tkeywords\n",
      "\tlayout\n",
      "\treserved\n",
      "\ttype_line\n",
      "\tartist\n",
      "\tbooster\n",
      "\tborder_color\n",
      "\tframe\n",
      "\tfull_art\n",
      "\tpromo\n",
      "\trarity\n",
      "\treleased_at\n",
      "\treprint\n",
      "\tset\n",
      "\tstory_spotlight\n",
      "\ttextless\n",
      "\tvariation\n",
      "\tpower_num\n",
      "\ttoughness_num\n",
      "\tis_foil\n",
      "\tprice\n",
      "\thas_white\n",
      "\thas_blue\n",
      "\thas_black\n",
      "\thas_red\n",
      "\thas_green\n",
      "\ttotal_num_colors\n",
      "\tlen_oracle_text\n",
      "\tlen_mana_types_produced\n",
      "\thas_frame_effect\n",
      "\thas_flavor_text\n",
      "\tclass_price\n"
     ]
    }
   ],
   "source": [
    "print(f\"Number of Cards: {len(df)}\")\n",
    "print(\"Columns:\")\n",
    "for c in df.columns:\n",
    "    print(f\"\\t{c}\")"
   ]
  },
  {
   "cell_type": "markdown",
   "metadata": {},
   "source": [
    "# Analysis"
   ]
  },
  {
   "cell_type": "code",
   "execution_count": 6,
   "metadata": {},
   "outputs": [
    {
     "name": "stdout",
     "output_type": "stream",
     "text": [
      "0 : 0.5524421730211502\n",
      "1 : 0.1826147697531301\n",
      "2 : 0.17309188653886964\n",
      "3 : 0.08382259319516164\n",
      "4 : 0.008028577491688477\n"
     ]
    }
   ],
   "source": [
    "uq, counts = np.unique(df.class_price, return_counts=True)\n",
    "perc = counts / len(df)\n",
    "\n",
    "for i in range(len(uq)):\n",
    "    print(f\"{uq[i]} : {perc[i]}\")"
   ]
  },
  {
   "cell_type": "markdown",
   "metadata": {},
   "source": [
    "Looking at the printout above, we see that the majority class makes up for 55% of the data. Thus we want our model to achieve an accuracy greater than 55% in order for us to have meaningful success."
   ]
  },
  {
   "cell_type": "markdown",
   "metadata": {},
   "source": [
    "## Looking at Keywords"
   ]
  },
  {
   "cell_type": "code",
   "execution_count": 20,
   "metadata": {},
   "outputs": [],
   "source": [
    "import re"
   ]
  },
  {
   "cell_type": "code",
   "execution_count": 54,
   "metadata": {},
   "outputs": [
    {
     "name": "stdout",
     "output_type": "stream",
     "text": [
      "543\n"
     ]
    }
   ],
   "source": [
    "all_k = set()\n",
    "counts = dict()\n",
    "for i in range(len(df)):\n",
    "    kys = df.iloc[i]['keywords'].split(',')\n",
    "    for k in kys:\n",
    "\n",
    "        kw = re.sub(r'[^A-Za-z0-9 ]+', '', k)\n",
    "        if kw == '':\n",
    "            continue\n",
    "\n",
    "        if kw[0] == ' ':\n",
    "            kw = kw[1:]\n",
    "        all_k.add(kw)\n",
    "\n",
    "        # add counts\n",
    "        if kw in counts.keys():\n",
    "            counts[kw] += 1\n",
    "        else:\n",
    "            counts[kw] = 0\n",
    "\n",
    "all_k = list(all_k)\n",
    "print(len(all_k))"
   ]
  },
  {
   "cell_type": "code",
   "execution_count": 72,
   "metadata": {},
   "outputs": [
    {
     "name": "stdout",
     "output_type": "stream",
     "text": [
      "['Flying', 'Enchant', 'First strike', 'Equip', 'Vigilance', 'Transform', 'Cycling', 'Haste', 'Trample', 'Mill', 'Flash', 'Scry']\n"
     ]
    }
   ],
   "source": [
    "kw_counts = np.array(list(counts.values()))\n",
    "kw_sorted = np.sort(kw_counts)[::-1]\n",
    "num_keep = np.sum((kw_sorted / len(df) * 100) > 1.0)\n",
    "\n",
    "mxkw = max(kw_sorted)\n",
    "print([d for d in counts if counts[d] in kw_sorted[:num_keep]])"
   ]
  },
  {
   "cell_type": "markdown",
   "metadata": {},
   "source": [
    "The above list shows all keywords that appear in at least 1% of the dataset. For now, we will keep these"
   ]
  }
 ],
 "metadata": {
  "kernelspec": {
   "display_name": "acme",
   "language": "python",
   "name": "python3"
  },
  "language_info": {
   "codemirror_mode": {
    "name": "ipython",
    "version": 3
   },
   "file_extension": ".py",
   "mimetype": "text/x-python",
   "name": "python",
   "nbconvert_exporter": "python",
   "pygments_lexer": "ipython3",
   "version": "3.12.1"
  }
 },
 "nbformat": 4,
 "nbformat_minor": 2
}
